{
 "cells": [
  {
   "cell_type": "code",
   "execution_count": 10,
   "id": "56f0b68a",
   "metadata": {},
   "outputs": [],
   "source": [
    "import pandas as pd\n",
    "import math\n",
    "import pandas as pd\n",
    "import numpy as np\n",
    "import seaborn as sns\n",
    "from scipy import stats\n",
    "import matplotlib.pyplot as plt\n"
   ]
  },
  {
   "cell_type": "code",
   "execution_count": 5,
   "id": "7476a906",
   "metadata": {},
   "outputs": [],
   "source": [
    "df = pd.read_csv(\"diabetes.csv\")"
   ]
  },
  {
   "cell_type": "code",
   "execution_count": 7,
   "id": "80ef72b1",
   "metadata": {},
   "outputs": [],
   "source": [
    "plt.show()"
   ]
  },
  {
   "cell_type": "code",
   "execution_count": 8,
   "id": "a785aa4e",
   "metadata": {},
   "outputs": [
    {
     "data": {
      "text/html": [
       "<div>\n",
       "<style scoped>\n",
       "    .dataframe tbody tr th:only-of-type {\n",
       "        vertical-align: middle;\n",
       "    }\n",
       "\n",
       "    .dataframe tbody tr th {\n",
       "        vertical-align: top;\n",
       "    }\n",
       "\n",
       "    .dataframe thead th {\n",
       "        text-align: right;\n",
       "    }\n",
       "</style>\n",
       "<table border=\"1\" class=\"dataframe\">\n",
       "  <thead>\n",
       "    <tr style=\"text-align: right;\">\n",
       "      <th></th>\n",
       "      <th>Pregnancies</th>\n",
       "      <th>Glucose</th>\n",
       "      <th>BloodPressure</th>\n",
       "      <th>SkinThickness</th>\n",
       "      <th>Insulin</th>\n",
       "      <th>BMI</th>\n",
       "      <th>DiabetesPedigreeFunction</th>\n",
       "      <th>Age</th>\n",
       "      <th>Outcome</th>\n",
       "    </tr>\n",
       "  </thead>\n",
       "  <tbody>\n",
       "    <tr>\n",
       "      <th>count</th>\n",
       "      <td>768.000000</td>\n",
       "      <td>768.000000</td>\n",
       "      <td>768.000000</td>\n",
       "      <td>768.000000</td>\n",
       "      <td>768.000000</td>\n",
       "      <td>768.000000</td>\n",
       "      <td>768.000000</td>\n",
       "      <td>768.000000</td>\n",
       "      <td>768.000000</td>\n",
       "    </tr>\n",
       "    <tr>\n",
       "      <th>mean</th>\n",
       "      <td>3.845052</td>\n",
       "      <td>120.894531</td>\n",
       "      <td>69.105469</td>\n",
       "      <td>20.536458</td>\n",
       "      <td>79.799479</td>\n",
       "      <td>31.992578</td>\n",
       "      <td>0.471876</td>\n",
       "      <td>33.240885</td>\n",
       "      <td>0.348958</td>\n",
       "    </tr>\n",
       "    <tr>\n",
       "      <th>std</th>\n",
       "      <td>3.369578</td>\n",
       "      <td>31.972618</td>\n",
       "      <td>19.355807</td>\n",
       "      <td>15.952218</td>\n",
       "      <td>115.244002</td>\n",
       "      <td>7.884160</td>\n",
       "      <td>0.331329</td>\n",
       "      <td>11.760232</td>\n",
       "      <td>0.476951</td>\n",
       "    </tr>\n",
       "    <tr>\n",
       "      <th>min</th>\n",
       "      <td>0.000000</td>\n",
       "      <td>0.000000</td>\n",
       "      <td>0.000000</td>\n",
       "      <td>0.000000</td>\n",
       "      <td>0.000000</td>\n",
       "      <td>0.000000</td>\n",
       "      <td>0.078000</td>\n",
       "      <td>21.000000</td>\n",
       "      <td>0.000000</td>\n",
       "    </tr>\n",
       "    <tr>\n",
       "      <th>25%</th>\n",
       "      <td>1.000000</td>\n",
       "      <td>99.000000</td>\n",
       "      <td>62.000000</td>\n",
       "      <td>0.000000</td>\n",
       "      <td>0.000000</td>\n",
       "      <td>27.300000</td>\n",
       "      <td>0.243750</td>\n",
       "      <td>24.000000</td>\n",
       "      <td>0.000000</td>\n",
       "    </tr>\n",
       "    <tr>\n",
       "      <th>50%</th>\n",
       "      <td>3.000000</td>\n",
       "      <td>117.000000</td>\n",
       "      <td>72.000000</td>\n",
       "      <td>23.000000</td>\n",
       "      <td>30.500000</td>\n",
       "      <td>32.000000</td>\n",
       "      <td>0.372500</td>\n",
       "      <td>29.000000</td>\n",
       "      <td>0.000000</td>\n",
       "    </tr>\n",
       "    <tr>\n",
       "      <th>75%</th>\n",
       "      <td>6.000000</td>\n",
       "      <td>140.250000</td>\n",
       "      <td>80.000000</td>\n",
       "      <td>32.000000</td>\n",
       "      <td>127.250000</td>\n",
       "      <td>36.600000</td>\n",
       "      <td>0.626250</td>\n",
       "      <td>41.000000</td>\n",
       "      <td>1.000000</td>\n",
       "    </tr>\n",
       "    <tr>\n",
       "      <th>max</th>\n",
       "      <td>17.000000</td>\n",
       "      <td>199.000000</td>\n",
       "      <td>122.000000</td>\n",
       "      <td>99.000000</td>\n",
       "      <td>846.000000</td>\n",
       "      <td>67.100000</td>\n",
       "      <td>2.420000</td>\n",
       "      <td>81.000000</td>\n",
       "      <td>1.000000</td>\n",
       "    </tr>\n",
       "  </tbody>\n",
       "</table>\n",
       "</div>"
      ],
      "text/plain": [
       "       Pregnancies     Glucose  BloodPressure  SkinThickness     Insulin  \\\n",
       "count   768.000000  768.000000     768.000000     768.000000  768.000000   \n",
       "mean      3.845052  120.894531      69.105469      20.536458   79.799479   \n",
       "std       3.369578   31.972618      19.355807      15.952218  115.244002   \n",
       "min       0.000000    0.000000       0.000000       0.000000    0.000000   \n",
       "25%       1.000000   99.000000      62.000000       0.000000    0.000000   \n",
       "50%       3.000000  117.000000      72.000000      23.000000   30.500000   \n",
       "75%       6.000000  140.250000      80.000000      32.000000  127.250000   \n",
       "max      17.000000  199.000000     122.000000      99.000000  846.000000   \n",
       "\n",
       "              BMI  DiabetesPedigreeFunction         Age     Outcome  \n",
       "count  768.000000                768.000000  768.000000  768.000000  \n",
       "mean    31.992578                  0.471876   33.240885    0.348958  \n",
       "std      7.884160                  0.331329   11.760232    0.476951  \n",
       "min      0.000000                  0.078000   21.000000    0.000000  \n",
       "25%     27.300000                  0.243750   24.000000    0.000000  \n",
       "50%     32.000000                  0.372500   29.000000    0.000000  \n",
       "75%     36.600000                  0.626250   41.000000    1.000000  \n",
       "max     67.100000                  2.420000   81.000000    1.000000  "
      ]
     },
     "execution_count": 8,
     "metadata": {},
     "output_type": "execute_result"
    }
   ],
   "source": [
    "df.describe()"
   ]
  },
  {
   "cell_type": "code",
   "execution_count": 13,
   "id": "901bcb1f",
   "metadata": {},
   "outputs": [
    {
     "data": {
      "text/plain": [
       "count    768.000000\n",
       "mean     120.894531\n",
       "std       31.972618\n",
       "min        0.000000\n",
       "25%       99.000000\n",
       "50%      117.000000\n",
       "75%      140.250000\n",
       "max      199.000000\n",
       "Name: Glucose, dtype: float64"
      ]
     },
     "execution_count": 13,
     "metadata": {},
     "output_type": "execute_result"
    }
   ],
   "source": [
    "diabetes_scaled = (df.drop('Outcome', axis=1) - df.drop('Outcome', axis=1).mean()) / df.drop(columns='Outcome').std()\n",
    "diabetes_scaled['Outcome'] = df['Outcome']\n",
    "df['Glucose'].describe()"
   ]
  },
  {
   "cell_type": "code",
   "execution_count": 14,
   "id": "f627e996",
   "metadata": {},
   "outputs": [
    {
     "name": "stdout",
     "output_type": "stream",
     "text": [
      "<class 'pandas.core.frame.DataFrame'>\n",
      "Int64Index: 268 entries, 0 to 766\n",
      "Data columns (total 9 columns):\n",
      " #   Column                    Non-Null Count  Dtype  \n",
      "---  ------                    --------------  -----  \n",
      " 0   Pregnancies               268 non-null    int64  \n",
      " 1   Glucose                   268 non-null    int64  \n",
      " 2   BloodPressure             268 non-null    int64  \n",
      " 3   SkinThickness             268 non-null    int64  \n",
      " 4   Insulin                   268 non-null    int64  \n",
      " 5   BMI                       268 non-null    float64\n",
      " 6   DiabetesPedigreeFunction  268 non-null    float64\n",
      " 7   Age                       268 non-null    int64  \n",
      " 8   Outcome                   268 non-null    int64  \n",
      "dtypes: float64(2), int64(7)\n",
      "memory usage: 20.9 KB\n",
      "<class 'pandas.core.frame.DataFrame'>\n",
      "Int64Index: 500 entries, 1 to 767\n",
      "Data columns (total 9 columns):\n",
      " #   Column                    Non-Null Count  Dtype  \n",
      "---  ------                    --------------  -----  \n",
      " 0   Pregnancies               500 non-null    int64  \n",
      " 1   Glucose                   500 non-null    int64  \n",
      " 2   BloodPressure             500 non-null    int64  \n",
      " 3   SkinThickness             500 non-null    int64  \n",
      " 4   Insulin                   500 non-null    int64  \n",
      " 5   BMI                       500 non-null    float64\n",
      " 6   DiabetesPedigreeFunction  500 non-null    float64\n",
      " 7   Age                       500 non-null    int64  \n",
      " 8   Outcome                   500 non-null    int64  \n",
      "dtypes: float64(2), int64(7)\n",
      "memory usage: 39.1 KB\n"
     ]
    }
   ],
   "source": [
    "diabetes_yes = df[(df['Outcome'] == 1)]\n",
    "diabetes_yes.info()\n",
    "diabetes_no = df[(df['Outcome'] == 0)]\n",
    "diabetes_no.info()"
   ]
  },
  {
   "cell_type": "code",
   "execution_count": 27,
   "id": "54bbad67",
   "metadata": {},
   "outputs": [],
   "source": [
    "#1. Are insulin levels greater than patients without one that have diabetes?"
   ]
  },
  {
   "cell_type": "code",
   "execution_count": 18,
   "id": "8bf28794",
   "metadata": {},
   "outputs": [
    {
     "data": {
      "image/png": "[encoded data removed]",
      "text/plain": [
       "<Figure size 432x288 with 1 Axes>"
      ]
     },
     "metadata": {
      "needs_background": "light"
     },
     "output_type": "display_data"
    }
   ],
   "source": [
    "plt.hist(diabetes_yes['Insulin'], alpha = .5, label = \"Diabetes yes\")\n",
    "plt.hist(diabetes_no['Insulin'], alpha = .5, label = \"Diabetes no\")\n",
    "plt.legend(loc=\"upper right\")\n",
    "plt.title(\"Insulin levels\")\n",
    "plt.show()"
   ]
  },
  {
   "cell_type": "code",
   "execution_count": 23,
   "id": "f37fd67d",
   "metadata": {},
   "outputs": [],
   "source": [
    "#2. Are diabetic patients higher in glucose levels on average than patients without diabetes?"
   ]
  },
  {
   "cell_type": "code",
   "execution_count": 20,
   "id": "0671e7f8",
   "metadata": {},
   "outputs": [
    {
     "data": {
      "image/png": "[encoded data removed]",
      "text/plain": [
       "<Figure size 432x288 with 1 Axes>"
      ]
     },
     "metadata": {
      "needs_background": "light"
     },
     "output_type": "display_data"
    },
    {
     "data": {
      "image/png": "[encoded data removed]",
      "text/plain": [
       "<Figure size 432x288 with 1 Axes>"
      ]
     },
     "metadata": {
      "needs_background": "light"
     },
     "output_type": "display_data"
    }
   ],
   "source": [
    "plt.hist(diabetes_yes['Glucose'], alpha = .5, label = \"Diabetes yes\")\n",
    "plt.hist(diabetes_no['Glucose'], alpha = .5, label = \"Diabetes no\")\n",
    "plt.legend(loc=\"upper right\")\n",
    "plt.title('Glucose Levels')\n",
    "plt.show()\n",
    "\n",
    "upper_Glucose_diabetes_yes_filtered_glucose = diabetes_yes[diabetes_yes['Glucose'] >= 121]\n",
    "lower_Glucose_diabetes_no_filtered_glucose = diabetes_no[diabetes_no['Glucose'] <= 121]\n",
    "plt.hist(upper_Glucose_diabetes_yes_filtered_glucose['Glucose'], alpha = .5, label = \"Upper Glucose, Insulin yes\")\n",
    "plt.hist(lower_Glucose_diabetes_no_filtered_glucose['Glucose'], alpha = .5, label = \"Lower Glucose, Insulin no\")\n",
    "plt.legend(loc=\"upper left\")\n",
    "plt.title('Glucose Levels')\n",
    "plt.show()"
   ]
  },
  {
   "cell_type": "code",
   "execution_count": 26,
   "id": "4a75bc45",
   "metadata": {},
   "outputs": [],
   "source": [
    "#3. Are diabetic patients higher in age on average than patients without diabetes?"
   ]
  },
  {
   "cell_type": "code",
   "execution_count": 21,
   "id": "da8259bb",
   "metadata": {},
   "outputs": [
    {
     "data": {
      "image/png": "[encoded data removed]",
      "text/plain": [
       "<Figure size 432x288 with 1 Axes>"
      ]
     },
     "metadata": {
      "needs_background": "light"
     },
     "output_type": "display_data"
    }
   ],
   "source": [
    "upper_Age_diabetes_yes_filtered_glucose = upper_Glucose_diabetes_yes_filtered_glucose[upper_Glucose_diabetes_yes_filtered_glucose[['Age']] > 33.0].fillna(33)\n",
    "lower_Age_diabetes_yes_filtered_glucose = upper_Glucose_diabetes_yes_filtered_glucose[upper_Glucose_diabetes_yes_filtered_glucose[['Age']] < 33.0].fillna(33)\n",
    "\n",
    "lower_Age_diabetes_no_filtered_glucose = lower_Glucose_diabetes_no_filtered_glucose[lower_Glucose_diabetes_no_filtered_glucose[['Age']] < 33.0].fillna(33)\n",
    "upper_Age_diabetes_no_filtered_glucose = lower_Glucose_diabetes_no_filtered_glucose[lower_Glucose_diabetes_no_filtered_glucose[['Age']] > 33.0].fillna(33)\n",
    "\n",
    "plt.hist(lower_Age_diabetes_no_filtered_glucose['Age'], alpha = .9, label = \"Upper Age Diabetes no\")\n",
    "plt.hist(upper_Age_diabetes_yes_filtered_glucose['Age'], alpha = .7, label = \"Lower Age Diabetes yes\")\n",
    "plt.hist(upper_Age_diabetes_no_filtered_glucose['Age'], alpha = .5, label = \"Upper Age Diabetes no\")\n",
    "plt.hist(lower_Age_diabetes_yes_filtered_glucose['Age'], alpha = .3, label = \"Lower Age Diabetes yes\")\n",
    "\n",
    "plt.legend(loc=\"upper right\")\n",
    "plt.show()"
   ]
  },
  {
   "cell_type": "code",
   "execution_count": 24,
   "id": "2b2dbec9",
   "metadata": {},
   "outputs": [],
   "source": [
    "#4. Are diabetic patients higher in BMI on average than patients without diabetes?"
   ]
  },
  {
   "cell_type": "code",
   "execution_count": 22,
   "id": "104fd8f2",
   "metadata": {},
   "outputs": [
    {
     "data": {
      "image/png": "[encoded data removed]",
      "text/plain": [
       "<Figure size 432x288 with 1 Axes>"
      ]
     },
     "metadata": {
      "needs_background": "light"
     },
     "output_type": "display_data"
    }
   ],
   "source": [
    "upper_BMI_diabetes_yes_filtered_glucose = upper_Glucose_diabetes_yes_filtered_glucose[upper_Glucose_diabetes_yes_filtered_glucose[['BMI']] >= 35.0]\n",
    "lower_BMI_diabetes_yes_filtered_glucose = upper_Glucose_diabetes_yes_filtered_glucose[upper_Glucose_diabetes_yes_filtered_glucose[['BMI']] <= 35.0]\n",
    "\n",
    "lower_BMI_diabetes_no_filtered_glucose = lower_Glucose_diabetes_no_filtered_glucose[lower_Glucose_diabetes_no_filtered_glucose[['BMI']] <= 35.0]\n",
    "upper_BMI_diabetes_no_filtered_glucose = lower_Glucose_diabetes_no_filtered_glucose[lower_Glucose_diabetes_no_filtered_glucose[['BMI']] >= 35.0]\n",
    "\n",
    "plt.hist(upper_BMI_diabetes_no_filtered_glucose['BMI'], alpha = .9, label = \"Upper BMI Diabetes no\")\n",
    "plt.hist(lower_BMI_diabetes_yes_filtered_glucose['BMI'], alpha = .7, label = \"Lower BMI Diabetes yes\")\n",
    "plt.hist(upper_BMI_diabetes_yes_filtered_glucose['BMI'], alpha = .5, label = \"Upper BMI Diabetes yes\")\n",
    "plt.hist(lower_BMI_diabetes_no_filtered_glucose['BMI'], alpha = .3, label = \"Lower BMI Diabetes no\")\n",
    "\n",
    "plt.legend(loc=\"upper right\")\n",
    "plt.show()\n",
    "#plt.savefig('Upper_lower_BMI_diabetes_no_filtered_glucose.jpg')"
   ]
  }
 ],
 "metadata": {
  "kernelspec": {
   "display_name": "Python 3 (ipykernel)",
   "language": "python",
   "name": "python3"
  },
  "language_info": {
   "codemirror_mode": {
    "name": "ipython",
    "version": 3
   },
   "file_extension": ".py",
   "mimetype": "text/x-python",
   "name": "python",
   "nbconvert_exporter": "python",
   "pygments_lexer": "ipython3",
   "version": "3.9.7"
  }
 },
 "nbformat": 4,
 "nbformat_minor": 5
}
